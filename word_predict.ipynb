{
 "cells": [
  {
   "cell_type": "code",
   "execution_count": 1,
   "metadata": {},
   "outputs": [
    {
     "name": "stderr",
     "output_type": "stream",
     "text": [
      "Using TensorFlow backend.\n"
     ]
    }
   ],
   "source": [
    "import pickle\n",
    "import matplotlib.pyplot as plt\n",
    "import numpy as np\n",
    "import os\n",
    "import cv2\n",
    "import keras\n",
    "from PIL import Image\n",
    "from keras.models import load_model"
   ]
  },
  {
   "cell_type": "code",
   "execution_count": 2,
   "metadata": {},
   "outputs": [],
   "source": [
    "def get_label_dict():\n",
    "    f = open('./b_label', 'rb')\n",
    "    label_dict = pickle.load(f)\n",
    "    f.close()\n",
    "    return label_dict"
   ]
  },
  {
   "cell_type": "code",
   "execution_count": 3,
   "metadata": {},
   "outputs": [],
   "source": [
    "lang_chars = get_label_dict()\n",
    "words_label = []\n",
    "for (char, value) in lang_chars.items():\n",
    "    words_label.append(char)"
   ]
  },
  {
   "cell_type": "code",
   "execution_count": 14,
   "metadata": {},
   "outputs": [],
   "source": [
    "class Prediction(object):\n",
    "    def __init__(self,ModelFile,words_label,Width=25,Height=30):\n",
    "        self.modelfile = ModelFile\n",
    "        self.Width = Width\n",
    "        self.Height = Height\n",
    "        self.words_label = words_label\n",
    "\n",
    "    def get_words_list(self,path_):\n",
    "        list_name=[]\n",
    "        files = os.listdir(path_)\n",
    "        files.sort()  # 对列表排序\n",
    "        for word in files:\n",
    "            word_path = os.path.join(path_, word)\n",
    "            list_name.append(word_path)\n",
    "        return list_name\n",
    "    \n",
    "    def Predict(self):\n",
    "        keras.backend.clear_session()\n",
    "        model = load_model(self.modelfile)\n",
    "        \n",
    "        image_set=[]\n",
    "        word_path = []\n",
    "        word_path = self.get_words_list(path_='./image_temp/')\n",
    "        # print(word_path)\n",
    "        for image in word_path:\n",
    "            new_img = Image.open(image).convert('L')\n",
    "            new_img = new_img.resize((self.Width,self.Height),Image.ANTIALIAS)\n",
    "            new_img.save(image)\n",
    "            new_img = np.asarray(new_img)\n",
    "            new_img = new_img.reshape([-1,30,25,1])\n",
    "            \n",
    "            image_set.append(new_img)\n",
    "            \n",
    "        word_list = []\n",
    "        for image_predict in image_set:\n",
    "            prediction = model.predict(image_predict)\n",
    "            Final_prediction = [result.argmax() for result in prediction][0]\n",
    "\n",
    "            count = 0\n",
    "            max_subscript = 0\n",
    "            max_acc = 0.0\n",
    "            for i in prediction[0]:\n",
    "                if (max_acc < i):\n",
    "                    max_acc = i\n",
    "                    max_subscript = count\n",
    "                count += 1\n",
    "                #percentage1 = '%.2f%%' % (i * 100) \n",
    "                #print (self.words_label[count-1],'概率:' ,percentage1)\n",
    "            percentage = '%.2f%%' % (max_acc * 100)\n",
    "            if (max_acc * 100)< 70.0:\n",
    "                word_list.append(' ')\n",
    "            else:\n",
    "                word_list.append(self.words_label[max_subscript])\n",
    "        sentence = \"\".join(word_list)\n",
    "        print(sentence)\n",
    "            #print (self.words_label[max_subscript],'概率:' ,percentage)\n",
    "\n",
    "    def remove_(self):\n",
    "        word_path = []\n",
    "        word_path = self.get_words_list(path_='./image_temp/')\n",
    "        for image in word_path:\n",
    "            os.remove(image)\n",
    "                \n",
    "        word_path = self.get_words_list(path_='./row_cut/')\n",
    "        for image in word_path:\n",
    "            os.remove(image)"
   ]
  },
  {
   "cell_type": "code",
   "execution_count": 22,
   "metadata": {},
   "outputs": [
    {
     "name": "stdout",
     "output_type": "stream",
     "text": [
      "Four score and seven years ago our fathers brought forth on this continent a new nation conceiyed in Liberty and dedicated to the proposition that alI men are created equaI \n"
     ]
    }
   ],
   "source": [
    "Pred = Prediction(ModelFile='words_recognize.h5',\n",
    "                words_label=words_label,\n",
    "                )\n",
    "Pred.Predict()\n",
    "#Pred.remove_()"
   ]
  },
  {
   "cell_type": "code",
   "execution_count": null,
   "metadata": {},
   "outputs": [],
   "source": []
  }
 ],
 "metadata": {
  "kernelspec": {
   "display_name": "Python 3",
   "language": "python",
   "name": "python3"
  },
  "language_info": {
   "codemirror_mode": {
    "name": "ipython",
    "version": 3
   },
   "file_extension": ".py",
   "mimetype": "text/x-python",
   "name": "python",
   "nbconvert_exporter": "python",
   "pygments_lexer": "ipython3",
   "version": "3.6.6"
  }
 },
 "nbformat": 4,
 "nbformat_minor": 2
}
