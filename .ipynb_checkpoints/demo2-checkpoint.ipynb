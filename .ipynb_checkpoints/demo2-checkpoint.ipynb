{
 "cells": [
  {
   "cell_type": "code",
   "execution_count": 1,
   "metadata": {},
   "outputs": [],
   "source": [
    "import cv2 as cv\n",
    "import  numpy as np\n",
    "from matplotlib import pyplot as plt"
   ]
  },
  {
   "cell_type": "code",
   "execution_count": 13,
   "metadata": {},
   "outputs": [],
   "source": [
    "#手动反取图像 三通道  255-每个像素点的值 耗时长\n",
    "def access_pixels(image): \n",
    "    print(image.shape)\n",
    "    height = image.shape[0]   #高 \n",
    "    width = image.shape[1]    #宽\n",
    "    channels = image.shape[2] #通道\n",
    "    print(\"width:%s,height:%s,channels:%s\"%(width,height,channels))\n",
    "    for row in range(height):\n",
    "        for col in range(width):\n",
    "            for c in range(channels):\n",
    "                pv = image[row,col,c]\n",
    "                image[row,col,c] = 255 - pv \n",
    "    cv.imshow(\"pixels_demo\",image)"
   ]
  },
  {
   "cell_type": "code",
   "execution_count": 40,
   "metadata": {},
   "outputs": [],
   "source": [
    "#创建新图像\n",
    "#np.zeros() np.ones()  np.empty()都是快速创建数组，用法相似。不同的是数组元素。\n",
    "def create_image():\n",
    "    img = np.zeros([400,400,3],np.uint8)\n",
    "    img[:,:,0] = np.ones([400,400])*255   # ':'默认为原值，第一个为长，第二个为宽，第三个参数为通道\n",
    "    \n",
    "    \"\"\"\n",
    "    #单通道\n",
    "    img = np.zeros([400,400,1],np.uint8)\n",
    "    img[:,:,0] = np.ones([400,400])*127   #*127为灰度图\n",
    "    \"\"\"\n",
    "    cv.imshow(\"image\",img)\n"
   ]
  },
  {
   "cell_type": "code",
   "execution_count": 45,
   "metadata": {},
   "outputs": [
    {
     "name": "stdout",
     "output_type": "stream",
     "text": [
      "[[198 198 198]\n",
      " [198 198 198]\n",
      " [198 198 198]]\n",
      "[[198 198 198 198 198 198 198 198 198]]\n"
     ]
    }
   ],
   "source": [
    "#数组操作\n",
    "m1 = np.ones([3,3],np.uint8)\n",
    "m1.fill(1222)  #充填数组元素\n",
    "print(m1)\n",
    "\n",
    "m2 = m1.reshape([1,9])    #改变数组维数 为 1行9列\n",
    "print(m2)"
   ]
  },
  {
   "cell_type": "code",
   "execution_count": 41,
   "metadata": {},
   "outputs": [],
   "source": [
    "\n",
    "create_image()\n",
    "cv.waitKey(0)\n",
    "cv.destroyAllWindows()"
   ]
  },
  {
   "cell_type": "code",
   "execution_count": 15,
   "metadata": {},
   "outputs": [
    {
     "name": "stdout",
     "output_type": "stream",
     "text": [
      "(105, 381, 3)\n",
      "width:381,height:105,channels:3\n",
      "time:236.22896634754738 ms\n"
     ]
    }
   ],
   "source": [
    "src = cv.imread(\"D:/study/dl/Graduation_Project/test.png\")\n",
    "t1 = cv.getTickCount()\n",
    "access_pixels(src)\n",
    "t2 = cv.getTickCount()\n",
    "time = (t2-t1)/cv.getTickFrequency()\n",
    "print(\"time:%s ms\"%(time*1000))\n",
    "cv.waitKey(0)\n",
    "cv.destroyAllWindows()\n",
    "#plt.imshow(src)"
   ]
  },
  {
   "cell_type": "code",
   "execution_count": null,
   "metadata": {},
   "outputs": [],
   "source": [
    "src = cv.imread(\"D:/study/dl/Graduation_Project/test.png\")\n",
    "cv.imshow(\"input image\",src)\n",
    "video_demo()\n",
    "#gray = cv.cvtColor(src,cv.COLOR_BGR2GRAY)\n",
    "#cv.imwrite(\"D:/hello.png\",gray) #保存图片\n",
    "cv.waitKey(0)\n",
    "capture.release()\n",
    "cv.destroyAllWindows()"
   ]
  },
  {
   "cell_type": "code",
   "execution_count": 14,
   "metadata": {},
   "outputs": [],
   "source": [
    "def get_img_info(image):  #读取图片信息\n",
    "    print(type(image))  #类别\n",
    "    print(image.shape)  #高、宽、通道数\n",
    "    print(image.size)   #总的像素大小：高*宽*通道数\n",
    "    print(image.dtype)  #每个像素点通道所占的位数"
   ]
  },
  {
   "cell_type": "code",
   "execution_count": 2,
   "metadata": {},
   "outputs": [],
   "source": [
    "def video_demo():  #调用摄像头\n",
    "    capture = cv.VideoCapture(0)\n",
    "    while(True):\n",
    "        ret,frame = capture.read()\n",
    "        frame = cv.flip(frame,1)  #镜像变换 第二个参数为1，-1 控制上下颠倒\n",
    "        cv.imshow(\"video\",frame)\n",
    "        c = cv.waitKey(50)\n",
    "        if cv.waitKey(1) == ord('e'):\n",
    "            break"
   ]
  }
 ],
 "metadata": {
  "kernelspec": {
   "display_name": "Python 3",
   "language": "python",
   "name": "python3"
  },
  "language_info": {
   "codemirror_mode": {
    "name": "ipython",
    "version": 3
   },
   "file_extension": ".py",
   "mimetype": "text/x-python",
   "name": "python",
   "nbconvert_exporter": "python",
   "pygments_lexer": "ipython3",
   "version": "3.6.6"
  }
 },
 "nbformat": 4,
 "nbformat_minor": 2
}
