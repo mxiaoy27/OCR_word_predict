{
 "cells": [
  {
   "cell_type": "code",
   "execution_count": 1,
   "metadata": {},
   "outputs": [
    {
     "name": "stderr",
     "output_type": "stream",
     "text": [
      "Using TensorFlow backend.\n"
     ]
    }
   ],
   "source": [
    "import os\n",
    "import random\n",
    "import numpy as np\n",
    "import cv2\n",
    "import matplotlib.pyplot as plt\n",
    "from PIL import Image\n",
    "from keras import layers\n",
    "from keras import models\n",
    "from keras import optimizers\n",
    "from keras.optimizers import Adam\n",
    "from keras.utils import np_utils"
   ]
  },
  {
   "cell_type": "code",
   "execution_count": 2,
   "metadata": {},
   "outputs": [],
   "source": [
    "class PreFile(object):\n",
    "    \n",
    "    def __init__(self,data_dir):\n",
    "        truncate_path = data_dir + ('%0.2d'%52)\n",
    "        \n",
    "        self.image_names = [] # 遍历训练集所有图像的路径，存储在image_names内\n",
    "        \n",
    "        for root, sub_folder, file_list in os.walk(data_dir):\n",
    "            if root < truncate_path:\n",
    "                self.image_names += [os.path.join(root, file_path) for file_path in file_list]\n",
    "        \n",
    "        random.shuffle(self.image_names) # 打乱之后喂进网络训练更准确\n",
    "        \n",
    "        # 截取len(FilePath)之后的字符串，以‘/’分割强制转换后得到想要的label\n",
    "        self.labels = [int(file_name[len(data_dir):].split(os.sep)[0]) for file_name in self.image_names]\n",
    "    \n",
    "    def Read_Images(self,img_path):\n",
    "        img = Image.open(img_path).convert('L')\n",
    "        return np.array(img)\n",
    "    \n",
    "    def get_value_and_label(self,categories):\n",
    "        value_list = []\n",
    "        label_list = []\n",
    "        for i in range (len(self.image_names)):\n",
    "            files_img_in_array = self.Read_Images(self.image_names[i])\n",
    "            files_img_in_array = np.asarray(files_img_in_array)/255.0\n",
    "            files_img_in_array = files_img_in_array.reshape(30,25,1)\n",
    "            value_list.append(files_img_in_array)\n",
    "        print(i)\n",
    "            \n",
    "        value_list = np.asarray(value_list)\n",
    "        label_list = np.asarray(self.labels)\n",
    "        \n",
    "        label_list = np_utils.to_categorical(label_list,categories)\n",
    "        \n",
    "        return value_list,label_list"
   ]
  },
  {
   "cell_type": "markdown",
   "metadata": {},
   "source": [
    "to_categorical(y, num_classes=None, dtype='float32')\n",
    "\n",
    "将整型标签转为onehot。y为int数组，num_classes为标签类别总数，大于max(y)（标签从0开始的）。"
   ]
  },
  {
   "cell_type": "code",
   "execution_count": 3,
   "metadata": {},
   "outputs": [],
   "source": [
    "class Training(object):\n",
    "    \n",
    "    def __init__(self,batch_size,number_batch,categories):\n",
    "        self.batch_size = batch_size\n",
    "        self.number_batch = number_batch\n",
    "        self.categories = categories\n",
    "    \n",
    "    def build_net(self):\n",
    "        model = models.Sequential()\n",
    "        #CNN Layer - 1\n",
    "        model.add(layers.Conv2D(32,(3,3),activation='relu',input_shape=(30,25,1)))\n",
    "        model.add(layers.MaxPool2D((2,2)))\n",
    "        model.add(layers.Conv2D(64,(3,3),activation='relu'))\n",
    "        model.add(layers.MaxPool2D((2,2)))\n",
    "        model.add(layers.Conv2D(128,(3,3),activation='relu'))\n",
    "        model.add(layers.MaxPool2D((2,2)))\n",
    "\n",
    "    #Fully connected Layer \n",
    "        model.add(layers.Flatten())\n",
    "        model.add(layers.Dropout(0.5))\n",
    "        model.add(layers.Dense(512,activation='relu'))\n",
    "        model.add(layers.Dropout(0.2))\n",
    "        model.add(layers.Dense(256,activation='relu'))\n",
    "        model.add(layers.Dropout(0.2))\n",
    "        model.add(layers.Dense(self.categories,activation='softmax'))\n",
    "\n",
    "    # Define Optimizer\n",
    "        adam = Adam(lr = 0.001)\n",
    "    #Compile the model\n",
    "        model.compile(optimizer=adam,\n",
    "                      loss=\"categorical_crossentropy\",\n",
    "                      metrics=['accuracy']\n",
    "                      )\n",
    "    # Fire up the network\n",
    "        train_log = model.fit(\n",
    "            train_img_list,\n",
    "            train_label_list,\n",
    "            epochs=self.number_batch,\n",
    "            batch_size=self.batch_size,\n",
    "            verbose=1,\n",
    "            #validation_data=(test_img_list,test_label_list)\n",
    "        )\n",
    "        model.save('./words_recognize.h5')\n"
   ]
  },
  {
   "cell_type": "code",
   "execution_count": 4,
   "metadata": {},
   "outputs": [
    {
     "name": "stdout",
     "output_type": "stream",
     "text": [
      "2807\n",
      "Epoch 1/100\n",
      "2808/2808 [==============================] - 4s 1ms/step - loss: 3.7474 - acc: 0.0545\n",
      "Epoch 2/100\n",
      "2808/2808 [==============================] - 1s 215us/step - loss: 2.2296 - acc: 0.3447\n",
      "Epoch 3/100\n",
      "2808/2808 [==============================] - 1s 217us/step - loss: 1.3625 - acc: 0.5972\n",
      "Epoch 4/100\n",
      "2808/2808 [==============================] - 1s 215us/step - loss: 1.0015 - acc: 0.6866\n",
      "Epoch 5/100\n",
      "2808/2808 [==============================] - 1s 215us/step - loss: 0.8683 - acc: 0.7226\n",
      "Epoch 6/100\n",
      "2808/2808 [==============================] - 1s 216us/step - loss: 0.7461 - acc: 0.7621\n",
      "Epoch 7/100\n",
      "2808/2808 [==============================] - 1s 216us/step - loss: 0.6425 - acc: 0.7974\n",
      "Epoch 8/100\n",
      "2808/2808 [==============================] - 1s 217us/step - loss: 0.5823 - acc: 0.8134\n",
      "Epoch 9/100\n",
      "2808/2808 [==============================] - 1s 218us/step - loss: 0.5353 - acc: 0.8209\n",
      "Epoch 10/100\n",
      "2808/2808 [==============================] - 1s 218us/step - loss: 0.4770 - acc: 0.8373\n",
      "Epoch 11/100\n",
      "2808/2808 [==============================] - 1s 219us/step - loss: 0.4686 - acc: 0.8394\n",
      "Epoch 12/100\n",
      "2808/2808 [==============================] - 1s 222us/step - loss: 0.4130 - acc: 0.8622\n",
      "Epoch 13/100\n",
      "2808/2808 [==============================] - 1s 223us/step - loss: 0.3997 - acc: 0.8668\n",
      "Epoch 14/100\n",
      "2808/2808 [==============================] - 1s 224us/step - loss: 0.3680 - acc: 0.8665\n",
      "Epoch 15/100\n",
      "2808/2808 [==============================] - 1s 221us/step - loss: 0.3512 - acc: 0.8718\n",
      "Epoch 16/100\n",
      "2808/2808 [==============================] - 1s 223us/step - loss: 0.3381 - acc: 0.8835\n",
      "Epoch 17/100\n",
      "2808/2808 [==============================] - 1s 226us/step - loss: 0.3290 - acc: 0.8868\n",
      "Epoch 18/100\n",
      "2808/2808 [==============================] - 1s 238us/step - loss: 0.3165 - acc: 0.8914\n",
      "Epoch 19/100\n",
      "2808/2808 [==============================] - 1s 227us/step - loss: 0.3149 - acc: 0.8835\n",
      "Epoch 20/100\n",
      "1984/2808 [====================>.........] - ETA: 0s - loss: 0.2971 - acc: 0.8952"
     ]
    },
    {
     "ename": "KeyboardInterrupt",
     "evalue": "",
     "output_type": "error",
     "traceback": [
      "\u001b[1;31m---------------------------------------------------------------------------\u001b[0m",
      "\u001b[1;31mKeyboardInterrupt\u001b[0m                         Traceback (most recent call last)",
      "\u001b[1;32m<ipython-input-4-f9121d921483>\u001b[0m in \u001b[0;36m<module>\u001b[1;34m\u001b[0m\n\u001b[0;32m      8\u001b[0m \u001b[1;33m\u001b[0m\u001b[0m\n\u001b[0;32m      9\u001b[0m     \u001b[0mtrain\u001b[0m \u001b[1;33m=\u001b[0m \u001b[0mTraining\u001b[0m\u001b[1;33m(\u001b[0m\u001b[0mbatch_size\u001b[0m\u001b[1;33m=\u001b[0m\u001b[1;36m32\u001b[0m\u001b[1;33m,\u001b[0m\u001b[0mnumber_batch\u001b[0m\u001b[1;33m=\u001b[0m\u001b[1;36m100\u001b[0m\u001b[1;33m,\u001b[0m\u001b[0mcategories\u001b[0m\u001b[1;33m=\u001b[0m\u001b[1;36m55\u001b[0m\u001b[1;33m)\u001b[0m\u001b[1;33m\u001b[0m\u001b[0m\n\u001b[1;32m---> 10\u001b[1;33m     \u001b[0mtrain\u001b[0m\u001b[1;33m.\u001b[0m\u001b[0mbuild_net\u001b[0m\u001b[1;33m(\u001b[0m\u001b[1;33m)\u001b[0m\u001b[1;33m\u001b[0m\u001b[0m\n\u001b[0m\u001b[0;32m     11\u001b[0m \u001b[1;33m\u001b[0m\u001b[0m\n",
      "\u001b[1;32m<ipython-input-3-c6c8b1b20999>\u001b[0m in \u001b[0;36mbuild_net\u001b[1;34m(self)\u001b[0m\n\u001b[0;32m     38\u001b[0m             \u001b[0mepochs\u001b[0m\u001b[1;33m=\u001b[0m\u001b[0mself\u001b[0m\u001b[1;33m.\u001b[0m\u001b[0mnumber_batch\u001b[0m\u001b[1;33m,\u001b[0m\u001b[1;33m\u001b[0m\u001b[0m\n\u001b[0;32m     39\u001b[0m             \u001b[0mbatch_size\u001b[0m\u001b[1;33m=\u001b[0m\u001b[0mself\u001b[0m\u001b[1;33m.\u001b[0m\u001b[0mbatch_size\u001b[0m\u001b[1;33m,\u001b[0m\u001b[1;33m\u001b[0m\u001b[0m\n\u001b[1;32m---> 40\u001b[1;33m             \u001b[0mverbose\u001b[0m\u001b[1;33m=\u001b[0m\u001b[1;36m1\u001b[0m\u001b[1;33m,\u001b[0m\u001b[1;33m\u001b[0m\u001b[0m\n\u001b[0m\u001b[0;32m     41\u001b[0m             \u001b[1;31m#validation_data=(test_img_list,test_label_list)\u001b[0m\u001b[1;33m\u001b[0m\u001b[1;33m\u001b[0m\u001b[0m\n\u001b[0;32m     42\u001b[0m         )\n",
      "\u001b[1;32md:\\study\\anaconda\\envs\\py36\\lib\\site-packages\\keras\\engine\\training.py\u001b[0m in \u001b[0;36mfit\u001b[1;34m(self, x, y, batch_size, epochs, verbose, callbacks, validation_split, validation_data, shuffle, class_weight, sample_weight, initial_epoch, steps_per_epoch, validation_steps, **kwargs)\u001b[0m\n\u001b[0;32m   1037\u001b[0m                                         \u001b[0minitial_epoch\u001b[0m\u001b[1;33m=\u001b[0m\u001b[0minitial_epoch\u001b[0m\u001b[1;33m,\u001b[0m\u001b[1;33m\u001b[0m\u001b[0m\n\u001b[0;32m   1038\u001b[0m                                         \u001b[0msteps_per_epoch\u001b[0m\u001b[1;33m=\u001b[0m\u001b[0msteps_per_epoch\u001b[0m\u001b[1;33m,\u001b[0m\u001b[1;33m\u001b[0m\u001b[0m\n\u001b[1;32m-> 1039\u001b[1;33m                                         validation_steps=validation_steps)\n\u001b[0m\u001b[0;32m   1040\u001b[0m \u001b[1;33m\u001b[0m\u001b[0m\n\u001b[0;32m   1041\u001b[0m     def evaluate(self, x=None, y=None,\n",
      "\u001b[1;32md:\\study\\anaconda\\envs\\py36\\lib\\site-packages\\keras\\engine\\training_arrays.py\u001b[0m in \u001b[0;36mfit_loop\u001b[1;34m(model, f, ins, out_labels, batch_size, epochs, verbose, callbacks, val_f, val_ins, shuffle, callback_metrics, initial_epoch, steps_per_epoch, validation_steps)\u001b[0m\n\u001b[0;32m    197\u001b[0m                     \u001b[0mins_batch\u001b[0m\u001b[1;33m[\u001b[0m\u001b[0mi\u001b[0m\u001b[1;33m]\u001b[0m \u001b[1;33m=\u001b[0m \u001b[0mins_batch\u001b[0m\u001b[1;33m[\u001b[0m\u001b[0mi\u001b[0m\u001b[1;33m]\u001b[0m\u001b[1;33m.\u001b[0m\u001b[0mtoarray\u001b[0m\u001b[1;33m(\u001b[0m\u001b[1;33m)\u001b[0m\u001b[1;33m\u001b[0m\u001b[0m\n\u001b[0;32m    198\u001b[0m \u001b[1;33m\u001b[0m\u001b[0m\n\u001b[1;32m--> 199\u001b[1;33m                 \u001b[0mouts\u001b[0m \u001b[1;33m=\u001b[0m \u001b[0mf\u001b[0m\u001b[1;33m(\u001b[0m\u001b[0mins_batch\u001b[0m\u001b[1;33m)\u001b[0m\u001b[1;33m\u001b[0m\u001b[0m\n\u001b[0m\u001b[0;32m    200\u001b[0m                 \u001b[0mouts\u001b[0m \u001b[1;33m=\u001b[0m \u001b[0mto_list\u001b[0m\u001b[1;33m(\u001b[0m\u001b[0mouts\u001b[0m\u001b[1;33m)\u001b[0m\u001b[1;33m\u001b[0m\u001b[0m\n\u001b[0;32m    201\u001b[0m                 \u001b[1;32mfor\u001b[0m \u001b[0ml\u001b[0m\u001b[1;33m,\u001b[0m \u001b[0mo\u001b[0m \u001b[1;32min\u001b[0m \u001b[0mzip\u001b[0m\u001b[1;33m(\u001b[0m\u001b[0mout_labels\u001b[0m\u001b[1;33m,\u001b[0m \u001b[0mouts\u001b[0m\u001b[1;33m)\u001b[0m\u001b[1;33m:\u001b[0m\u001b[1;33m\u001b[0m\u001b[0m\n",
      "\u001b[1;32md:\\study\\anaconda\\envs\\py36\\lib\\site-packages\\keras\\backend\\tensorflow_backend.py\u001b[0m in \u001b[0;36m__call__\u001b[1;34m(self, inputs)\u001b[0m\n\u001b[0;32m   2713\u001b[0m                 \u001b[1;32mreturn\u001b[0m \u001b[0mself\u001b[0m\u001b[1;33m.\u001b[0m\u001b[0m_legacy_call\u001b[0m\u001b[1;33m(\u001b[0m\u001b[0minputs\u001b[0m\u001b[1;33m)\u001b[0m\u001b[1;33m\u001b[0m\u001b[0m\n\u001b[0;32m   2714\u001b[0m \u001b[1;33m\u001b[0m\u001b[0m\n\u001b[1;32m-> 2715\u001b[1;33m             \u001b[1;32mreturn\u001b[0m \u001b[0mself\u001b[0m\u001b[1;33m.\u001b[0m\u001b[0m_call\u001b[0m\u001b[1;33m(\u001b[0m\u001b[0minputs\u001b[0m\u001b[1;33m)\u001b[0m\u001b[1;33m\u001b[0m\u001b[0m\n\u001b[0m\u001b[0;32m   2716\u001b[0m         \u001b[1;32melse\u001b[0m\u001b[1;33m:\u001b[0m\u001b[1;33m\u001b[0m\u001b[0m\n\u001b[0;32m   2717\u001b[0m             \u001b[1;32mif\u001b[0m \u001b[0mpy_any\u001b[0m\u001b[1;33m(\u001b[0m\u001b[0mis_tensor\u001b[0m\u001b[1;33m(\u001b[0m\u001b[0mx\u001b[0m\u001b[1;33m)\u001b[0m \u001b[1;32mfor\u001b[0m \u001b[0mx\u001b[0m \u001b[1;32min\u001b[0m \u001b[0minputs\u001b[0m\u001b[1;33m)\u001b[0m\u001b[1;33m:\u001b[0m\u001b[1;33m\u001b[0m\u001b[0m\n",
      "\u001b[1;32md:\\study\\anaconda\\envs\\py36\\lib\\site-packages\\keras\\backend\\tensorflow_backend.py\u001b[0m in \u001b[0;36m_call\u001b[1;34m(self, inputs)\u001b[0m\n\u001b[0;32m   2673\u001b[0m             \u001b[0mfetched\u001b[0m \u001b[1;33m=\u001b[0m \u001b[0mself\u001b[0m\u001b[1;33m.\u001b[0m\u001b[0m_callable_fn\u001b[0m\u001b[1;33m(\u001b[0m\u001b[1;33m*\u001b[0m\u001b[0marray_vals\u001b[0m\u001b[1;33m,\u001b[0m \u001b[0mrun_metadata\u001b[0m\u001b[1;33m=\u001b[0m\u001b[0mself\u001b[0m\u001b[1;33m.\u001b[0m\u001b[0mrun_metadata\u001b[0m\u001b[1;33m)\u001b[0m\u001b[1;33m\u001b[0m\u001b[0m\n\u001b[0;32m   2674\u001b[0m         \u001b[1;32melse\u001b[0m\u001b[1;33m:\u001b[0m\u001b[1;33m\u001b[0m\u001b[0m\n\u001b[1;32m-> 2675\u001b[1;33m             \u001b[0mfetched\u001b[0m \u001b[1;33m=\u001b[0m \u001b[0mself\u001b[0m\u001b[1;33m.\u001b[0m\u001b[0m_callable_fn\u001b[0m\u001b[1;33m(\u001b[0m\u001b[1;33m*\u001b[0m\u001b[0marray_vals\u001b[0m\u001b[1;33m)\u001b[0m\u001b[1;33m\u001b[0m\u001b[0m\n\u001b[0m\u001b[0;32m   2676\u001b[0m         \u001b[1;32mreturn\u001b[0m \u001b[0mfetched\u001b[0m\u001b[1;33m[\u001b[0m\u001b[1;33m:\u001b[0m\u001b[0mlen\u001b[0m\u001b[1;33m(\u001b[0m\u001b[0mself\u001b[0m\u001b[1;33m.\u001b[0m\u001b[0moutputs\u001b[0m\u001b[1;33m)\u001b[0m\u001b[1;33m]\u001b[0m\u001b[1;33m\u001b[0m\u001b[0m\n\u001b[0;32m   2677\u001b[0m \u001b[1;33m\u001b[0m\u001b[0m\n",
      "\u001b[1;32md:\\study\\anaconda\\envs\\py36\\lib\\site-packages\\tensorflow\\python\\client\\session.py\u001b[0m in \u001b[0;36m__call__\u001b[1;34m(self, *args)\u001b[0m\n\u001b[0;32m   1449\u001b[0m         \u001b[1;32mif\u001b[0m \u001b[0mself\u001b[0m\u001b[1;33m.\u001b[0m\u001b[0m_session\u001b[0m\u001b[1;33m.\u001b[0m\u001b[0m_created_with_new_api\u001b[0m\u001b[1;33m:\u001b[0m\u001b[1;33m\u001b[0m\u001b[0m\n\u001b[0;32m   1450\u001b[0m           return tf_session.TF_SessionRunCallable(\n\u001b[1;32m-> 1451\u001b[1;33m               self._session._session, self._handle, args, status, None)\n\u001b[0m\u001b[0;32m   1452\u001b[0m         \u001b[1;32melse\u001b[0m\u001b[1;33m:\u001b[0m\u001b[1;33m\u001b[0m\u001b[0m\n\u001b[0;32m   1453\u001b[0m           return tf_session.TF_DeprecatedSessionRunCallable(\n",
      "\u001b[1;31mKeyboardInterrupt\u001b[0m: "
     ]
    }
   ],
   "source": [
    "if __name__ == \"__main__\":\n",
    "    \n",
    "    train_prefile = PreFile(data_dir='./dataset/train/')\n",
    "    train_img_list,train_label_list = train_prefile.get_value_and_label(categories=55)\n",
    "    \n",
    "    #test_prefile = PreFile(data_dir='./dataset/test/')\n",
    "    #test_img_list,test_label_list = test_prefile.get_value_and_label(categories=55)\n",
    "    \n",
    "    train = Training(batch_size=32,number_batch=30,categories=55)\n",
    "    train.build_net()\n",
    "\n"
   ]
  },
  {
   "cell_type": "code",
   "execution_count": 11,
   "metadata": {},
   "outputs": [
    {
     "name": "stdout",
     "output_type": "stream",
     "text": [
      "(9152, 30, 25, 1)\n"
     ]
    }
   ],
   "source": [
    "print(train_img_list.shape)"
   ]
  },
  {
   "cell_type": "code",
   "execution_count": null,
   "metadata": {},
   "outputs": [],
   "source": [
    "        score = model.evaluate(test_img_list,test_label_list)\n",
    "        print(\"loss\",score[0])\n",
    "        print(\"accu\",score[1])\n",
    "        #SAVE your work -model\n",
    "        model.save('./words_recognize.h5')\n",
    "        \n",
    "        # 绘制los/acc曲线\n",
    "        plt.style.use(\"ggplot\")\n",
    "        plt.figure()\n",
    "        plt.plot(np.arange(0, self.number_batch), train_log.history[\"loss\"], label=\"train_loss\")\n",
    "        plt.plot(np.arange(0, self.number_batch), train_log.history[\"val_loss\"], label=\"val_loss\")\n",
    "        plt.plot(np.arange(0, self.number_batch), train_log.history[\"acc\"], label=\"train_acc\")\n",
    "        plt.plot(np.arange(0, self.number_batch), train_log.history[\"val_acc\"], label=\"val_acc\")\n",
    "        plt.title(\"Training Loss and Accuracy on sar classifier\")\n",
    "        plt.xlabel(\"Epoch\")\n",
    "        plt.ylabel(\"Loss/Accuracy\")\n",
    "        plt.legend(loc=\"upper right\")\n",
    "        plt.show()"
   ]
  }
 ],
 "metadata": {
  "kernelspec": {
   "display_name": "Python 3",
   "language": "python",
   "name": "python3"
  },
  "language_info": {
   "codemirror_mode": {
    "name": "ipython",
    "version": 3
   },
   "file_extension": ".py",
   "mimetype": "text/x-python",
   "name": "python",
   "nbconvert_exporter": "python",
   "pygments_lexer": "ipython3",
   "version": "3.6.6"
  }
 },
 "nbformat": 4,
 "nbformat_minor": 2
}
