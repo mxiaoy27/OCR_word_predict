{
 "cells": [
  {
   "cell_type": "code",
   "execution_count": 1,
   "metadata": {},
   "outputs": [],
   "source": [
    "import pickle"
   ]
  },
  {
   "cell_type": "code",
   "execution_count": 2,
   "metadata": {},
   "outputs": [],
   "source": [
    "file = open('./label.txt','r')  \n",
    "f = eval(file.read())          #eval函数把字符串转化成对应语句\n",
    "label = pickle.dumps(f)        #利用dangmps把字典装化成二进制python数据\n",
    "file.close()\n",
    "b_file = open('./final_label','wb')#写入文件\n",
    "b_file.write(label)\n",
    "b_file.close()"
   ]
  },
  {
   "cell_type": "code",
   "execution_count": 5,
   "metadata": {},
   "outputs": [],
   "source": [
    "#测试\n",
    "r = open('./final_label','rb')\n",
    "label_dict = pickle.load(r)\n",
    "r.close()"
   ]
  },
  {
   "cell_type": "code",
   "execution_count": 6,
   "metadata": {},
   "outputs": [
    {
     "name": "stdout",
     "output_type": "stream",
     "text": [
      "{'A': 0, 'a': 1, 'B': 2, 'b': 3, 'C': 4, 'c': 5, 'D': 6, 'd': 7, 'E': 8, 'e': 9, 'F': 10, 'f': 11, 'G': 12, 'g': 13, 'H': 14, 'h': 15, 'I': 16, 'i': 17, 'J': 18, 'j': 19, 'K': 20, 'k': 21, 'L': 22, 'l': 23, 'M': 24, 'm': 25, 'N': 26, 'n': 27, 'O': 28, 'o': 29, 'P': 30, 'p': 31, 'Q': 32, 'q': 33, 'R': 34, 'r': 35, 'S': 36, 's': 37, 'T': 38, 't': 39, 'U': 40, 'u': 41, 'V': 42, 'v': 43, 'W': 44, 'w': 45, 'X': 46, 'x': 47, 'Y': 48, 'y': 49, 'Z': 50, 'z': 51, ',': 52, '.': 53, '?': 54}\n"
     ]
    }
   ],
   "source": [
    "print(label_dict)"
   ]
  },
  {
   "cell_type": "code",
   "execution_count": null,
   "metadata": {},
   "outputs": [],
   "source": []
  }
 ],
 "metadata": {
  "kernelspec": {
   "display_name": "Python 3",
   "language": "python",
   "name": "python3"
  },
  "language_info": {
   "codemirror_mode": {
    "name": "ipython",
    "version": 3
   },
   "file_extension": ".py",
   "mimetype": "text/x-python",
   "name": "python",
   "nbconvert_exporter": "python",
   "pygments_lexer": "ipython3",
   "version": "3.6.6"
  }
 },
 "nbformat": 4,
 "nbformat_minor": 2
}
