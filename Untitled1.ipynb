{
 "cells": [
  {
   "cell_type": "code",
   "execution_count": 1,
   "metadata": {},
   "outputs": [],
   "source": [
    "from PIL import Image\n",
    "from PIL import ImageFont\n",
    "from PIL import ImageDraw\n",
    "import numpy as np\n",
    "import cv2"
   ]
  },
  {
   "cell_type": "code",
   "execution_count": 2,
   "metadata": {},
   "outputs": [],
   "source": [
    "img = Image.new(\"RGB\", (21, 30), \"black\")\n",
    "draw = ImageDraw.Draw(img)\n",
    "\n",
    "# 白色文字\n",
    "font = ImageFont.truetype('./ttf/cambriai.ttf', int(21 * 1), )\n",
    "draw.text((0, 0), 'Z', (255, 255, 255), font=font)\n",
    "        \n",
    "img = np.asarray(img)\n",
    "new_img = cv2.resize(img,(35,50))\n",
    "cv2.imwrite('test.png',new_img)\n",
    "cv2.imshow('as',new_img)\n",
    "cv2.waitKey(0)\n",
    "cv2.destroyAllWindows()"
   ]
  },
  {
   "cell_type": "code",
   "execution_count": 3,
   "metadata": {},
   "outputs": [],
   "source": [
    "np_img = np.zeros([80,100,3],np.uint8)\n",
    "h = int(80*0.8)\n",
    "w = int(100*0.5)\n",
    "\n",
    "for j in range(3):\n",
    "    for i in range(3):\n",
    "        np_img[h,w]=255\n",
    "        h += 1\n",
    "    w += 1\n",
    "    h -= 3\n",
    "\n",
    "    \n",
    "cv2.imshow('as',np_img)\n",
    "cv2.waitKey(0)\n",
    "cv2.destroyAllWindows()"
   ]
  },
  {
   "cell_type": "code",
   "execution_count": null,
   "metadata": {},
   "outputs": [],
   "source": []
  }
 ],
 "metadata": {
  "kernelspec": {
   "display_name": "Python 3",
   "language": "python",
   "name": "python3"
  },
  "language_info": {
   "codemirror_mode": {
    "name": "ipython",
    "version": 3
   },
   "file_extension": ".py",
   "mimetype": "text/x-python",
   "name": "python",
   "nbconvert_exporter": "python",
   "pygments_lexer": "ipython3",
   "version": "3.6.6"
  }
 },
 "nbformat": 4,
 "nbformat_minor": 2
}
