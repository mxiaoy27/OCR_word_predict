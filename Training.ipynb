{
 "cells": [
  {
   "cell_type": "code",
   "execution_count": 1,
   "metadata": {},
   "outputs": [
    {
     "name": "stderr",
     "output_type": "stream",
     "text": [
      "Using TensorFlow backend.\n"
     ]
    }
   ],
   "source": [
    "import os\n",
    "import random\n",
    "import numpy as np\n",
    "import cv2\n",
    "import matplotlib.pyplot as plt\n",
    "from PIL import Image\n",
    "from keras import layers\n",
    "from keras import models\n",
    "from keras import optimizers\n",
    "from keras.optimizers import Adam\n",
    "from keras.utils import np_utils"
   ]
  },
  {
   "cell_type": "code",
   "execution_count": 2,
   "metadata": {},
   "outputs": [],
   "source": [
    "class PreFile(object):\n",
    "    \n",
    "    def __init__(self,data_dir):\n",
    "        truncate_path = data_dir + ('%0.2d'%52)\n",
    "        \n",
    "        self.image_names = [] # 遍历训练集所有图像的路径，存储在image_names内\n",
    "        \n",
    "        for root, sub_folder, file_list in os.walk(data_dir):\n",
    "            if root < truncate_path:\n",
    "                self.image_names += [os.path.join(root, file_path) for file_path in file_list]\n",
    "        \n",
    "        random.shuffle(self.image_names) # 打乱之后喂进网络训练更准确\n",
    "        \n",
    "        # 截取len(FilePath)之后的字符串，以‘/’分割强制转换后得到想要的label\n",
    "        self.labels = [int(file_name[len(data_dir):].split(os.sep)[0]) for file_name in self.image_names]\n",
    "    \n",
    "    def Read_Images(self,img_path):\n",
    "        img = Image.open(img_path).convert('L')\n",
    "        return np.array(img)\n",
    "    \n",
    "    def get_value_and_label(self,categories):\n",
    "        value_list = []\n",
    "        label_list = []\n",
    "        for i in range (len(self.image_names)):\n",
    "            files_img_in_array = self.Read_Images(self.image_names[i])\n",
    "            files_img_in_array = np.asarray(files_img_in_array)/255.0\n",
    "            files_img_in_array = files_img_in_array.reshape(30,25,1)\n",
    "            value_list.append(files_img_in_array)\n",
    "        print(i)\n",
    "            \n",
    "        value_list = np.asarray(value_list)\n",
    "        label_list = np.asarray(self.labels)\n",
    "        \n",
    "        label_list = np_utils.to_categorical(label_list,categories)\n",
    "        \n",
    "        return value_list,label_list"
   ]
  },
  {
   "cell_type": "markdown",
   "metadata": {},
   "source": [
    "to_categorical(y, num_classes=None, dtype='float32')\n",
    "\n",
    "将整型标签转为onehot。y为int数组，num_classes为标签类别总数，大于max(y)（标签从0开始的）。"
   ]
  },
  {
   "cell_type": "code",
   "execution_count": 3,
   "metadata": {},
   "outputs": [],
   "source": [
    "class Training(object):\n",
    "    \n",
    "    def __init__(self,batch_size,number_batch,categories):\n",
    "        self.batch_size = batch_size\n",
    "        self.number_batch = number_batch\n",
    "        self.categories = categories\n",
    "    \n",
    "    def build_net(self):\n",
    "        model = models.Sequential()\n",
    "        #CNN Layer \n",
    "        model.add(layers.Conv2D(32,(3,3),activation='relu',input_shape=(30,25,1)))\n",
    "        model.add(layers.MaxPool2D((2,2)))\n",
    "        model.add(layers.Conv2D(64,(3,3),activation='relu'))\n",
    "        model.add(layers.MaxPool2D((2,2)))\n",
    "        model.add(layers.Conv2D(128,(3,3),activation='relu'))\n",
    "        model.add(layers.MaxPool2D((2,2)))\n",
    "\n",
    "        #Fully connected Layer \n",
    "        model.add(layers.Flatten())\n",
    "        model.add(layers.Dropout(0.5))\n",
    "        model.add(layers.Dense(512,activation='relu'))\n",
    "        model.add(layers.Dropout(0.2))\n",
    "        model.add(layers.Dense(256,activation='relu'))\n",
    "        model.add(layers.Dropout(0.2))\n",
    "        model.add(layers.Dense(self.categories,activation='softmax'))\n",
    "\n",
    "    # Define Optimizer\n",
    "        adam = Adam(lr = 0.001)\n",
    "    #Compile the model\n",
    "        model.compile(optimizer=adam,\n",
    "                      loss=\"categorical_crossentropy\",\n",
    "                      metrics=['accuracy']\n",
    "                      )\n",
    "    # Fire up the network\n",
    "        train_log = model.fit(\n",
    "            train_img_list,\n",
    "            train_label_list,\n",
    "            epochs=self.number_batch,\n",
    "            batch_size=self.batch_size,\n",
    "            verbose=1,\n",
    "            #validation_data=(test_img_list,test_label_list)\n",
    "        )\n",
    "        model.save('./words_recognize.h5')\n",
    "        #score = model.evaluate(test_img_list,test_label_list)\n",
    "        #print(\"loss\",score[0])\n",
    "        #print(\"accu\",score[1])\n",
    "        #SAVE your work -model\n",
    "        model.save('./words_recognize.h5')\n",
    "        \n",
    "        # 绘制los/acc曲线\n",
    "        plt.style.use(\"ggplot\")\n",
    "        plt.figure()\n",
    "        plt.plot(np.arange(0, self.number_batch), train_log.history[\"loss\"], label=\"train_loss\")\n",
    "        #plt.plot(np.arange(0, self.number_batch), train_log.history[\"val_loss\"], label=\"val_loss\")\n",
    "        plt.plot(np.arange(0, self.number_batch), train_log.history[\"acc\"], label=\"train_acc\")\n",
    "        #plt.plot(np.arange(0, self.number_batch), train_log.history[\"val_acc\"], label=\"val_acc\")\n",
    "        plt.title(\"Training Loss and Accuracy on sar classifier\")\n",
    "        plt.xlabel(\"Epoch\")\n",
    "        plt.ylabel(\"Loss/Accuracy\")\n",
    "        plt.legend(loc=\"upper right\")\n",
    "        plt.show()"
   ]
  },
  {
   "cell_type": "code",
   "execution_count": 4,
   "metadata": {},
   "outputs": [
    {
     "name": "stdout",
     "output_type": "stream",
     "text": [
      "23818\n",
      "Epoch 1/30\n",
      "23819/23819 [==============================] - 6s 264us/step - loss: 1.6627 - acc: 0.5192\n",
      "Epoch 2/30\n",
      "23819/23819 [==============================] - 3s 130us/step - loss: 0.5413 - acc: 0.8179\n",
      "Epoch 3/30\n",
      "23819/23819 [==============================] - 3s 130us/step - loss: 0.3693 - acc: 0.8729\n",
      "Epoch 4/30\n",
      "23819/23819 [==============================] - 3s 130us/step - loss: 0.2894 - acc: 0.8973\n",
      "Epoch 5/30\n",
      "23819/23819 [==============================] - 3s 131us/step - loss: 0.2454 - acc: 0.9105\n",
      "Epoch 6/30\n",
      "23819/23819 [==============================] - 3s 133us/step - loss: 0.2144 - acc: 0.9238\n",
      "Epoch 7/30\n",
      "23819/23819 [==============================] - 3s 134us/step - loss: 0.1891 - acc: 0.9317\n",
      "Epoch 8/30\n",
      "23819/23819 [==============================] - 3s 135us/step - loss: 0.1763 - acc: 0.9336\n",
      "Epoch 9/30\n",
      "23819/23819 [==============================] - 3s 134us/step - loss: 0.1584 - acc: 0.9411\n",
      "Epoch 10/30\n",
      "23819/23819 [==============================] - 3s 136us/step - loss: 0.1489 - acc: 0.9428\n",
      "Epoch 11/30\n",
      "23819/23819 [==============================] - 3s 134us/step - loss: 0.1480 - acc: 0.9448\n",
      "Epoch 12/30\n",
      "23819/23819 [==============================] - 3s 133us/step - loss: 0.1301 - acc: 0.9491\n",
      "Epoch 13/30\n",
      "23819/23819 [==============================] - 3s 133us/step - loss: 0.1240 - acc: 0.9534\n",
      "Epoch 14/30\n",
      "23819/23819 [==============================] - 3s 134us/step - loss: 0.1216 - acc: 0.9547\n",
      "Epoch 15/30\n",
      "23819/23819 [==============================] - 3s 134us/step - loss: 0.1134 - acc: 0.9580\n",
      "Epoch 16/30\n",
      "23819/23819 [==============================] - 3s 134us/step - loss: 0.1117 - acc: 0.9581\n",
      "Epoch 17/30\n",
      "23819/23819 [==============================] - 3s 134us/step - loss: 0.0995 - acc: 0.9608\n",
      "Epoch 18/30\n",
      "23819/23819 [==============================] - 3s 134us/step - loss: 0.1021 - acc: 0.9593\n",
      "Epoch 19/30\n",
      "23819/23819 [==============================] - 3s 134us/step - loss: 0.0960 - acc: 0.9634\n",
      "Epoch 20/30\n",
      "23819/23819 [==============================] - 3s 134us/step - loss: 0.0992 - acc: 0.9614\n",
      "Epoch 21/30\n",
      "23819/23819 [==============================] - 3s 134us/step - loss: 0.0952 - acc: 0.9639\n",
      "Epoch 22/30\n",
      "23819/23819 [==============================] - 3s 134us/step - loss: 0.0956 - acc: 0.9628\n",
      "Epoch 23/30\n",
      "23819/23819 [==============================] - 3s 135us/step - loss: 0.0893 - acc: 0.9650\n",
      "Epoch 24/30\n",
      "23819/23819 [==============================] - 3s 134us/step - loss: 0.0800 - acc: 0.9687\n",
      "Epoch 25/30\n",
      "23819/23819 [==============================] - 3s 135us/step - loss: 0.0792 - acc: 0.9682\n",
      "Epoch 26/30\n",
      "23819/23819 [==============================] - 3s 135us/step - loss: 0.0750 - acc: 0.9704\n",
      "Epoch 27/30\n",
      "23819/23819 [==============================] - 3s 136us/step - loss: 0.0796 - acc: 0.9683\n",
      "Epoch 28/30\n",
      "23819/23819 [==============================] - 3s 137us/step - loss: 0.0750 - acc: 0.9691\n",
      "Epoch 29/30\n",
      "23819/23819 [==============================] - 3s 138us/step - loss: 0.0754 - acc: 0.9702\n",
      "Epoch 30/30\n",
      "23819/23819 [==============================] - 3s 138us/step - loss: 0.0702 - acc: 0.9735\n"
     ]
    },
    {
     "data": {
      "image/png": "[encoded data removed]",
      "text/plain": [
       "<Figure size 432x288 with 1 Axes>"
      ]
     },
     "metadata": {},
     "output_type": "display_data"
    }
   ],
   "source": [
    "if __name__ == \"__main__\":\n",
    "    \n",
    "    train_prefile = PreFile(data_dir='./dataset/train/')\n",
    "    train_img_list,train_label_list = train_prefile.get_value_and_label(categories=55)\n",
    "    \n",
    "    #test_prefile = PreFile(data_dir='./dataset/test/')\n",
    "    #test_img_list,test_label_list = test_prefile.get_value_and_label(categories=55)\n",
    "    \n",
    "    train = Training(batch_size=64,number_batch=30,categories=55)\n",
    "    train.build_net()\n",
    "\n"
   ]
  },
  {
   "cell_type": "code",
   "execution_count": 11,
   "metadata": {},
   "outputs": [
    {
     "name": "stdout",
     "output_type": "stream",
     "text": [
      "(9152, 30, 25, 1)\n"
     ]
    }
   ],
   "source": [
    "print(train_img_list.shape)"
   ]
  }
 ],
 "metadata": {
  "kernelspec": {
   "display_name": "Python 3",
   "language": "python",
   "name": "python3"
  },
  "language_info": {
   "codemirror_mode": {
    "name": "ipython",
    "version": 3
   },
   "file_extension": ".py",
   "mimetype": "text/x-python",
   "name": "python",
   "nbconvert_exporter": "python",
   "pygments_lexer": "ipython3",
   "version": "3.6.6"
  }
 },
 "nbformat": 4,
 "nbformat_minor": 2
}
